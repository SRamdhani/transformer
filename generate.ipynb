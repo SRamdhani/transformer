{
 "cells": [
  {
   "cell_type": "code",
   "execution_count": 1,
   "id": "0bd4a557-91ac-4bde-a4a9-a62ccb587f86",
   "metadata": {},
   "outputs": [],
   "source": [
    "from data.main.data import GPTDATA\n",
    "from gpt.model.gpt import GPT\n",
    "from data import DATASET\n",
    "from gpt import MODEL_DIR\n",
    "import torch.nn as nn\n",
    "import torch\n",
    "import os"
   ]
  },
  {
   "cell_type": "code",
   "execution_count": 2,
   "id": "feb62d87-9061-43b5-b6e3-bb5d23a15367",
   "metadata": {},
   "outputs": [],
   "source": [
    "gptdata = GPTDATA()\n",
    "\n",
    "VOCAB_SIZE = gptdata.vocab_size\n",
    "SEQ_LEN = gptdata.seq_len\n",
    "TOKENIZER = gptdata.tokenizer_gpt\n",
    "BATCH_SIZE = 30\n",
    "\n",
    "gptmodel = GPT(vocab_size=VOCAB_SIZE,\n",
    "               context_length=SEQ_LEN,\n",
    "               model_dim=128,\n",
    "               num_blocks=4,\n",
    "               num_heads=4)"
   ]
  },
  {
   "cell_type": "code",
   "execution_count": 3,
   "id": "6e4c0630-07fd-4acd-8c0a-47bf7e35fd7d",
   "metadata": {},
   "outputs": [
    {
     "name": "stdout",
     "output_type": "stream",
     "text": [
      "loading pre-existing weights...\n"
     ]
    }
   ],
   "source": [
    "filename = 'model_weights.pth'\n",
    "model_path = os.path.join(MODEL_DIR, filename)\n",
    "\n",
    "if os.path.exists(model_path):\n",
    "    print('loading pre-existing weights...')\n",
    "    gptmodel.load_state_dict(torch.load(model_path))\n",
    "    "
   ]
  },
  {
   "cell_type": "code",
   "execution_count": 4,
   "id": "afa1b57c-7a19-490f-9c50-d49c07271a4f",
   "metadata": {},
   "outputs": [],
   "source": [
    "tokenized = TOKENIZER(DATASET[0]['text'])['input_ids']"
   ]
  },
  {
   "cell_type": "code",
   "execution_count": 5,
   "id": "3ba4d6ed-b130-405d-ad91-bb821c373327",
   "metadata": {},
   "outputs": [
    {
     "data": {
      "text/plain": [
       "102"
      ]
     },
     "execution_count": 5,
     "metadata": {},
     "output_type": "execute_result"
    }
   ],
   "source": [
    "tokenized.pop(0)\n",
    "tokenized.pop(-1)"
   ]
  },
  {
   "cell_type": "code",
   "execution_count": 6,
   "id": "ff6effd1-1b86-4e5b-a4f8-c72804808c6d",
   "metadata": {},
   "outputs": [],
   "source": [
    "excerpt = tokenized[:100]"
   ]
  },
  {
   "cell_type": "code",
   "execution_count": 7,
   "id": "efe9f901-d855-408c-b90f-5fe17a7d41af",
   "metadata": {},
   "outputs": [],
   "source": [
    "excerpt_pad, attn = gptdata.padding_and_attn(excerpt, SEQ_LEN)\n",
    "excerpt_pad = torch.tensor([excerpt_pad])\n",
    "attn = torch.tensor(attn)"
   ]
  },
  {
   "cell_type": "code",
   "execution_count": 8,
   "id": "935402c2-4e7f-4a16-ae7a-6cad3036cf14",
   "metadata": {},
   "outputs": [],
   "source": [
    "output = gptmodel(excerpt_pad).squeeze()"
   ]
  },
  {
   "cell_type": "code",
   "execution_count": 9,
   "id": "e152abaf-cac5-4c4a-9422-36b3ca3590cf",
   "metadata": {},
   "outputs": [
    {
     "data": {
      "text/plain": [
       "tensor([-0.8040, -0.5694, -1.5925,  ..., -0.0391,  1.3373,  1.1942],\n",
       "       grad_fn=<SelectBackward0>)"
      ]
     },
     "execution_count": 9,
     "metadata": {},
     "output_type": "execute_result"
    }
   ],
   "source": [
    "output[attn==1][-1]"
   ]
  },
  {
   "cell_type": "code",
   "execution_count": 10,
   "id": "6eec6382-0ad6-4f4c-8b3e-43f41ecbd90e",
   "metadata": {},
   "outputs": [
    {
     "data": {
      "text/plain": [
       "'month started by to - the from in it for'"
      ]
     },
     "execution_count": 10,
     "metadata": {},
     "output_type": "execute_result"
    }
   ],
   "source": [
    "TOKENIZER.decode(nn.Softmax(dim=0)(output[attn==1][-1]).argsort()[-10:])"
   ]
  },
  {
   "cell_type": "code",
   "execution_count": 11,
   "id": "00bd8651-aeec-404c-8aa1-8c89d59eb3c0",
   "metadata": {},
   "outputs": [
    {
     "data": {
      "text/plain": [
       "'wales want rugby league training wales could follow england s lead by training with a rugby league club. england have already had a three - day session with leeds rhinos and wales are thought to be interested in a similar clinic with rivals st helens. saints coach ian millward has given his approval but if it does happen it is unlikely to be this season. saints have a week s training in portugal next week while wales will play england in the opening six nations match on 5 february. we have had an approach from'"
      ]
     },
     "execution_count": 11,
     "metadata": {},
     "output_type": "execute_result"
    }
   ],
   "source": [
    "TOKENIZER.decode(tokenized[:101])"
   ]
  },
  {
   "cell_type": "code",
   "execution_count": null,
   "id": "24f79cbb-aa2f-474b-9fed-df86e84e79e0",
   "metadata": {},
   "outputs": [],
   "source": []
  },
  {
   "cell_type": "code",
   "execution_count": null,
   "id": "8d20ed5e-943d-4490-8565-8457476017da",
   "metadata": {},
   "outputs": [],
   "source": []
  },
  {
   "cell_type": "code",
   "execution_count": null,
   "id": "cbc7828f-0c17-4171-b634-1754b3dfbe9c",
   "metadata": {},
   "outputs": [],
   "source": []
  }
 ],
 "metadata": {
  "kernelspec": {
   "display_name": "Python 3 (ipykernel)",
   "language": "python",
   "name": "python3"
  },
  "language_info": {
   "codemirror_mode": {
    "name": "ipython",
    "version": 3
   },
   "file_extension": ".py",
   "mimetype": "text/x-python",
   "name": "python",
   "nbconvert_exporter": "python",
   "pygments_lexer": "ipython3",
   "version": "3.10.10"
  }
 },
 "nbformat": 4,
 "nbformat_minor": 5
}
