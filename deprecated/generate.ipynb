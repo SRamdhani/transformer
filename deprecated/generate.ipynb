{
 "cells": [
  {
   "cell_type": "code",
   "execution_count": 5,
   "id": "0bd4a557-91ac-4bde-a4a9-a62ccb587f86",
   "metadata": {},
   "outputs": [],
   "source": [
    "from data.main.data import GPTDATA\n",
    "from gpt.model.gpt import GPT\n",
    "from gpt import MODEL_DIR\n",
    "from data import DATASET\n",
    "import torch.nn as nn\n",
    "import torch\n",
    "import os"
   ]
  },
  {
   "cell_type": "code",
   "execution_count": 6,
   "id": "feb62d87-9061-43b5-b6e3-bb5d23a15367",
   "metadata": {},
   "outputs": [],
   "source": [
    "gptdata = GPTDATA()\n",
    "\n",
    "VOCAB_SIZE = gptdata.vocab_size\n",
    "SEQ_LEN = gptdata.seq_len\n",
    "TOKENIZER = gptdata.tokenizer_gpt\n",
    "BATCH_SIZE = 30\n",
    "\n",
    "gptmodel = GPT(vocab_size=VOCAB_SIZE,\n",
    "               context_length=SEQ_LEN,\n",
    "               model_dim=128,\n",
    "               num_blocks=4,\n",
    "               num_heads=4)"
   ]
  },
  {
   "cell_type": "code",
   "execution_count": 7,
   "id": "6e4c0630-07fd-4acd-8c0a-47bf7e35fd7d",
   "metadata": {},
   "outputs": [
    {
     "name": "stdout",
     "output_type": "stream",
     "text": [
      "loading pre-existing weights...\n"
     ]
    }
   ],
   "source": [
    "filename = 'model_weights.pth'\n",
    "model_path = os.path.join(MODEL_DIR, filename)\n",
    "\n",
    "if os.path.exists(model_path):\n",
    "    print('loading pre-existing weights...')\n",
    "    gptmodel.load_state_dict(torch.load(model_path))\n",
    "    "
   ]
  },
  {
   "cell_type": "code",
   "execution_count": 8,
   "id": "afa1b57c-7a19-490f-9c50-d49c07271a4f",
   "metadata": {},
   "outputs": [],
   "source": [
    "# tokenized = TOKENIZER(DATASET[0]['text'])['input_ids']"
   ]
  },
  {
   "cell_type": "code",
   "execution_count": 52,
   "id": "1a894dd2-5773-4335-a77c-d33972f664f5",
   "metadata": {},
   "outputs": [
    {
     "name": "stdout",
     "output_type": "stream",
     "text": [
      "101\n",
      "102\n"
     ]
    }
   ],
   "source": [
    "# tokenized = TOKENIZER(\n",
    "#     \"\"\"wales want rugby league training wales could follow england s lead by training with a rugby league club.  \n",
    "# england have already had a three-day session with leeds rhinos  and wales are thought to be interested in a \n",
    "# similar clinic with rivals st helens. saints coach ian millward has given his approval  but if it does happen it is unlikely to be \n",
    "# this season. saints have a week s training in portugal next week  while wales will play england in the opening six nations match on \n",
    "# 5 february. we have had an approach\"\"\" )['input_ids']\n",
    "\n",
    "tokenized = TOKENIZER(\n",
    "    \"\"\"super union  merger plan touted two of britain s big trade unions could merge to form a  super union  of two million members.  the move by amicus and the transport and general workers union (tgwu) would be a seen as a bid to carry more weight with ministers and employers.\"\"\" )['input_ids']\n",
    "    \n",
    "print(tokenized.pop(0))\n",
    "print(tokenized.pop(-1))"
   ]
  },
  {
   "cell_type": "code",
   "execution_count": 53,
   "id": "3ba4d6ed-b130-405d-ad91-bb821c373327",
   "metadata": {},
   "outputs": [],
   "source": [
    "# excerpt = tokenized\n",
    "\n",
    "# excerpt_pad, attn = gptdata.padding_and_attn(excerpt, SEQ_LEN)\n",
    "# excerpt_pad = torch.tensor([excerpt_pad])\n",
    "# attn = torch.tensor(attn)\n",
    "\n",
    "# output = gptmodel(excerpt_pad).squeeze()\n",
    "# TOKENIZER.decode( nn.Softmax(dim=0)(output[attn==1][-1]).argsort()[-10:] )"
   ]
  },
  {
   "cell_type": "code",
   "execution_count": 54,
   "id": "e152abaf-cac5-4c4a-9422-36b3ca3590cf",
   "metadata": {},
   "outputs": [],
   "source": [
    "def pnucleus(tensor: torch.tensor, p: float = 0.95):\n",
    "    values, idx = tensor.sort()\n",
    "    psample = idx[values.cumsum(0) > p]\n",
    "    return psample[torch.randint(len(psample),(1,))]"
   ]
  },
  {
   "cell_type": "code",
   "execution_count": 55,
   "id": "24f79cbb-aa2f-474b-9fed-df86e84e79e0",
   "metadata": {},
   "outputs": [],
   "source": [
    "for _ in range(600):\n",
    "    excerpt = tokenized[-SEQ_LEN:]        \n",
    "    excerpt_pad, attn = gptdata.padding_and_attn(excerpt, SEQ_LEN)\n",
    "    excerpt_pad = torch.tensor([excerpt_pad])\n",
    "    attn = torch.tensor(attn)\n",
    "    \n",
    "    output = gptmodel(excerpt_pad).squeeze()\n",
    "    sampled = pnucleus(nn.Softmax(dim=0)(output[attn==1][-1]))\n",
    "    tokenized.append(sampled.item())"
   ]
  },
  {
   "cell_type": "code",
   "execution_count": 56,
   "id": "8d20ed5e-943d-4490-8565-8457476017da",
   "metadata": {},
   "outputs": [
    {
     "data": {
      "text/plain": [
       "'super union  merger plan touted two of britain s big trade unions could merge to form a  super union  of two million members.  the move by amicus and the transport and general workers union (tgwu) would be a seen as a bid to carry more weight with ministers and employers. amicus has 1.2 million members and the tgwu has 800 000. any merger would have to be approved by the unions  executives and their membership. it is understood meetings will be held on wednesday about the proposal. along with the gmb and unison  the tgwu and amicus worked closely together in the last year to hammer out a 56-point deal with labour s leadership over equality at work  holidays and pensions - the warwick agreement. both unions are remaining tight-lipped about the merger rumours  but one insider pointed out to the bbc news website that  nobody is denying suggestions a merger could be on the agenda  when the two unions  executives hold their meetings on wednesday. amicus s executive was due to meet in any case although the tgwu is holding specially scheduled talks.'"
      ]
     },
     "execution_count": 56,
     "metadata": {},
     "output_type": "execute_result"
    }
   ],
   "source": [
    "DATASET[202]['text']"
   ]
  },
  {
   "cell_type": "code",
   "execution_count": 57,
   "id": "cbc7828f-0c17-4171-b634-1754b3dfbe9c",
   "metadata": {},
   "outputs": [
    {
     "data": {
      "text/plain": [
       "'super union merger plan touted two of britain s big trade unions could merge to form a super union of two million members. the move by amicus and the transport and general workers union ( tgwu ) would be a seen as a bid to carry more weight with ministers and employers. the new rules has seen at least ten firms suspended while they work. the cowboys driven out in portugal the new rules have been brought in the mef. the last couple of the last couple of years ringtones and lots of years ringtones wallpapers screensavers screensavers screensavers screensavers in the to. st helens who are not on the last couple of it s portal you are not on a new rules was essential if that want to ensure that the operator s portal you are going to union side swansea. a problem of the operator s a problem of customers. to have quite heavy marketing costs because it s a problem of messaging firm mblox. to combat this many ringtone and executive chairman of a subscription to give them for instance several it s portal you are going to give them for the consumer has a few weeks at the space of the band would plays happened over the move to using subscriptions happened over the end of a few weeks at the space of 2004. co. co. it s all uk started getting reports from customers who were racking up large bills for phone firms to give them for. websites such as grumbletext. everyone is required to mobile content for. what made us uncomfortable was essential if consumers were not know they thought as grumbletext. co. we will see the consumer harm here he said andrew bud regulatory head of the creation of a new code of conduct for substantial consumer harm here he said. the creation of the new system was led to sell content firm zed said. the drafting of it. the first. the whole. the new rules was led by the mobile phones. everyone is required to conform to conform to conform to conform to conform to conform to force all about transparency he said. it s all about transparency he said. is required to be told what they have to be told what they have to get out he said. the groundrules must be protected he said. christian harris partnership manager of mobile content firm zed said. christian harris partnership manager of mobile content firm zed said the groundrules must be applied across the whole industry and if that s done effectively we will see the groundrules must be applied across the cowboys driven out he said. it s done effectively we will see the cowboys driven out he said. the cowboys driven out he said. the cowboys driven out he said. the cowboys driven out he said. the cowboys driven out he said. the cowboys driven out he said. the cowboys driven out he said. the cowboys driven out he said. the cowboys driven out he said. the cowboys driven out he said. the cowboys driven out he said. the cowboys driven out he said. the cowboys driven out he said. the cowboys driven out he said. the cowboys driven out he said. the cowboys driven out he said. the cowboys driven out he said. the cowboys driven out he said. the cowboys driven out he said. the cowboys driven out he said. the cowboys driven'"
      ]
     },
     "execution_count": 57,
     "metadata": {},
     "output_type": "execute_result"
    }
   ],
   "source": [
    "TOKENIZER.decode( tokenized )"
   ]
  },
  {
   "cell_type": "code",
   "execution_count": null,
   "id": "d6060103-1a4e-4625-bafa-3bcdc5c9f522",
   "metadata": {},
   "outputs": [],
   "source": []
  },
  {
   "cell_type": "code",
   "execution_count": null,
   "id": "93204ed4-8828-4587-bf41-430cbd701fa8",
   "metadata": {},
   "outputs": [],
   "source": []
  }
 ],
 "metadata": {
  "kernelspec": {
   "display_name": "Python 3 (ipykernel)",
   "language": "python",
   "name": "python3"
  },
  "language_info": {
   "codemirror_mode": {
    "name": "ipython",
    "version": 3
   },
   "file_extension": ".py",
   "mimetype": "text/x-python",
   "name": "python",
   "nbconvert_exporter": "python",
   "pygments_lexer": "ipython3",
   "version": "3.10.10"
  }
 },
 "nbformat": 4,
 "nbformat_minor": 5
}
