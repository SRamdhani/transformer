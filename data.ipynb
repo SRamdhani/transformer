{
 "cells": [
  {
   "cell_type": "code",
   "execution_count": 8,
   "id": "e56b4b0a-fe33-44dd-9025-c3cb4b957d85",
   "metadata": {},
   "outputs": [],
   "source": [
    "from torch.utils.data.dataloader import DataLoader\n",
    "from transformers import DataCollatorWithPadding\n",
    "from datasets import load_dataset, Dataset\n",
    "from transformers import AutoTokenizer\n",
    "import transformers\n",
    "import numpy as np\n",
    "import re"
   ]
  },
  {
   "cell_type": "code",
   "execution_count": 9,
   "id": "0089ab3b-4f4c-4f2e-a300-4c82d8211c47",
   "metadata": {},
   "outputs": [],
   "source": [
    "tokenizer_gpt = AutoTokenizer.from_pretrained(\"distilbert-base-uncased\") \n",
    "dataset = load_dataset(\"SetFit/bbc-news\")\n",
    "# training = dataset['train']\n",
    "# testing = dataset['test']"
   ]
  },
  {
   "cell_type": "code",
   "execution_count": 10,
   "id": "5c744a68-1c45-419f-a69a-c09e8399d8b2",
   "metadata": {},
   "outputs": [],
   "source": [
    "VOCAB_SIZE       = tokenizer_gpt.vocab_size\n",
    "SEQ_LEN          = 1002\n",
    "# FEED_FORWARD_DIM = 32\n",
    "# BATCH_SIZE       = 2\n",
    "# EMBED_DIM        = 300\n",
    "# NUM_HEADS        = 3\n",
    "# NUM_LAYERS       = 2\n",
    "# EPOCHS           = 3\n",
    "# NUM_TOKENS_TO_GENERATE = 80"
   ]
  },
  {
   "cell_type": "code",
   "execution_count": null,
   "id": "f9b6f976-180b-4489-b134-88c248727417",
   "metadata": {},
   "outputs": [],
   "source": [
    "dataset = tokenizer_gpt(training['text']+testing['text'], padding=True, truncation=True, max_length=SEQ_LEN, return_tensors=\"pt\")"
   ]
  },
  {
   "cell_type": "code",
   "execution_count": null,
   "id": "24708e6c-62e5-4af1-91e8-e170a54e453a",
   "metadata": {},
   "outputs": [],
   "source": [
    "training = training.map(lambda e: tokenizer_gpt(e['text'], padding=True, truncation=True, max_length=SEQ_LEN), batched=True)"
   ]
  },
  {
   "cell_type": "code",
   "execution_count": null,
   "id": "efce0a24-2a18-401d-9676-b82936a25857",
   "metadata": {},
   "outputs": [],
   "source": [
    "training.set_format(type='torch', columns=['input_ids', 'attention_mask', 'label'])"
   ]
  },
  {
   "cell_type": "code",
   "execution_count": null,
   "id": "954963db-da74-4e5c-9bb8-9826eadb5903",
   "metadata": {},
   "outputs": [],
   "source": [
    "training = training.remove_columns([\"text\",\"label\",\"label_text\"])"
   ]
  },
  {
   "cell_type": "code",
   "execution_count": null,
   "id": "13bb8dd4-9b39-4650-9738-ddfe8274fe91",
   "metadata": {},
   "outputs": [],
   "source": [
    "dataloader = DataLoader(training, batch_size=32, collate_fn=lambda x: x)"
   ]
  },
  {
   "cell_type": "code",
   "execution_count": null,
   "id": "c269d6b9-d01e-430f-a485-5b51f88ce40a",
   "metadata": {},
   "outputs": [],
   "source": [
    "# for x in dataloader: break"
   ]
  },
  {
   "cell_type": "code",
   "execution_count": 23,
   "id": "98371f80-e268-4d43-9758-44809328508c",
   "metadata": {},
   "outputs": [
    {
     "data": {
      "application/vnd.jupyter.widget-view+json": {
       "model_id": "ccc3f898d7f34092afd9899d1dd3b81e",
       "version_major": 2,
       "version_minor": 0
      },
      "text/plain": [
       "Map:   0%|          | 0/1225 [00:00<?, ? examples/s]"
      ]
     },
     "metadata": {},
     "output_type": "display_data"
    },
    {
     "data": {
      "application/vnd.jupyter.widget-view+json": {
       "model_id": "4dcfd46db85241968292723df63a8947",
       "version_major": 2,
       "version_minor": 0
      },
      "text/plain": [
       "Map:   0%|          | 0/1000 [00:00<?, ? examples/s]"
      ]
     },
     "metadata": {},
     "output_type": "display_data"
    }
   ],
   "source": [
    "def tokenize_function(example):\n",
    "    return tokenizer_gpt(example[\"text\"], padding=True, truncation=True, max_length=SEQ_LEN)\n",
    "\n",
    "tokenized_dataset = dataset.map(tokenize_function, batched=True)"
   ]
  },
  {
   "cell_type": "code",
   "execution_count": 47,
   "id": "4977f51c-13cc-4679-a50d-a396339d7044",
   "metadata": {},
   "outputs": [],
   "source": [
    "tokenized_dataset = tokenized_dataset.remove_columns([\"text\",\"label\",\"label_text\"])"
   ]
  },
  {
   "cell_type": "code",
   "execution_count": 48,
   "id": "058c01ba-aca4-4027-a0f4-361e2a84e751",
   "metadata": {},
   "outputs": [],
   "source": [
    "data_collator = DataCollatorWithPadding(tokenizer=tokenizer_gpt, padding=\"max_length\", max_length=SEQ_LEN)"
   ]
  },
  {
   "cell_type": "code",
   "execution_count": 49,
   "id": "ddb89501-71d7-4452-aef5-5b2f541842e3",
   "metadata": {},
   "outputs": [],
   "source": [
    "dataloader = DataLoader(\n",
    "    tokenized_dataset[\"train\"],\n",
    "    batch_size=3,\n",
    "    collate_fn=data_collator\n",
    ")"
   ]
  },
  {
   "cell_type": "code",
   "execution_count": 51,
   "id": "6f3189d4-32e7-456c-abc6-bdf2d59883f3",
   "metadata": {},
   "outputs": [],
   "source": [
    "test = next(iter(dataloader))"
   ]
  },
  {
   "cell_type": "code",
   "execution_count": 53,
   "id": "d0dfa1db-66f9-4b06-b078-49c62ac9b8e8",
   "metadata": {},
   "outputs": [
    {
     "data": {
      "text/plain": [
       "torch.Size([3, 1002])"
      ]
     },
     "execution_count": 53,
     "metadata": {},
     "output_type": "execute_result"
    }
   ],
   "source": [
    "test['input_ids'].shape"
   ]
  },
  {
   "cell_type": "code",
   "execution_count": null,
   "id": "136a5a55-827b-4a7f-85aa-ad78ec939940",
   "metadata": {},
   "outputs": [],
   "source": []
  }
 ],
 "metadata": {
  "kernelspec": {
   "display_name": "Python 3 (ipykernel)",
   "language": "python",
   "name": "python3"
  },
  "language_info": {
   "codemirror_mode": {
    "name": "ipython",
    "version": 3
   },
   "file_extension": ".py",
   "mimetype": "text/x-python",
   "name": "python",
   "nbconvert_exporter": "python",
   "pygments_lexer": "ipython3",
   "version": "3.10.10"
  }
 },
 "nbformat": 4,
 "nbformat_minor": 5
}
