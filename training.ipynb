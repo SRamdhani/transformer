{
 "cells": [
  {
   "cell_type": "code",
   "execution_count": null,
   "id": "23188535-9501-42ba-8a2c-ed6a154968e1",
   "metadata": {},
   "outputs": [],
   "source": [
    "from torch.utils.data.dataloader import DataLoader\n",
    "from data.main.data import GPTDATA\n",
    "from gpt.model.gpt import GPT\n",
    "import torch.nn as nn\n",
    "import torch"
   ]
  },
  {
   "cell_type": "code",
   "execution_count": null,
   "id": "7b5e1c44-d002-4451-962e-77b091b9da61",
   "metadata": {},
   "outputs": [],
   "source": [
    "gptdata = GPTDATA()\n",
    "gptdata.curate(max_length = 512)"
   ]
  },
  {
   "cell_type": "code",
   "execution_count": null,
   "id": "b0666a82-3894-45eb-9ffc-ec25333e6a4b",
   "metadata": {},
   "outputs": [],
   "source": [
    "VOCAB_SIZE = gptdata.vocab_size\n",
    "SEQ_LEN = gptdata.seq_len\n",
    "TOKENIZER = gptdata.tokenizer_gpt"
   ]
  },
  {
   "cell_type": "code",
   "execution_count": null,
   "id": "a2d7d686-fd89-4cf7-996d-7d2bc3f0f48a",
   "metadata": {},
   "outputs": [],
   "source": [
    "data = gptdata.hf_dataset"
   ]
  },
  {
   "cell_type": "code",
   "execution_count": null,
   "id": "66ff3e83-9cea-4f51-80ed-e69468c1c65d",
   "metadata": {},
   "outputs": [],
   "source": [
    "data"
   ]
  },
  {
   "cell_type": "code",
   "execution_count": null,
   "id": "bf8deb24-9997-45c1-8674-9834ec4a7598",
   "metadata": {},
   "outputs": [],
   "source": [
    "dataloader = DataLoader(\n",
    "    data,\n",
    "    batch_size=30\n",
    ")"
   ]
  },
  {
   "cell_type": "code",
   "execution_count": null,
   "id": "fc29a6f0-f352-479f-8646-d08946226ef4",
   "metadata": {},
   "outputs": [],
   "source": [
    "gptmodel = GPT(vocab_size=VOCAB_SIZE, \n",
    "               context_length=SEQ_LEN, \n",
    "               model_dim=128, \n",
    "               num_blocks=4, \n",
    "               num_heads=4)"
   ]
  },
  {
   "cell_type": "code",
   "execution_count": null,
   "id": "7d923a44-8ff8-4c8b-92c5-01d678a85b15",
   "metadata": {},
   "outputs": [],
   "source": [
    "optimizer = torch.optim.SGD(gptmodel.parameters(), lr=0.001, momentum=0.9)\n",
    "loss_fn = nn.CrossEntropyLoss(reduction='mean')"
   ]
  },
  {
   "cell_type": "code",
   "execution_count": null,
   "id": "3567c068-e446-4ddd-8b56-39efe06ee268",
   "metadata": {},
   "outputs": [],
   "source": [
    "for _ in range(100):\n",
    "    running_loss = 0 \n",
    "    \n",
    "    ds = next(iter(dataloader))\n",
    "\n",
    "    input_ids = torch.stack(ds['input_ids']).T\n",
    "    label = torch.stack(ds['label']).T\n",
    "    attn = torch.stack(ds['attention_mask']).T # We don't need this as it's already masked in selfattn.py line 23 but needed for loss.\n",
    "\n",
    "    # Zero your gradients for every batch!\n",
    "    optimizer.zero_grad()\n",
    "\n",
    "    # Make predictions for this batch\n",
    "    outputs = gptmodel(input_ids)\n",
    "\n",
    "    # Compute the loss and its gradients\n",
    "    first = True\n",
    "    \n",
    "    for i in range(30):\n",
    "        if first:\n",
    "            first=False\n",
    "            loss =loss_fn(outputs[i][attn[i]==1], label[i][attn[i]==1])\n",
    "        else:\n",
    "            loss +=loss_fn(outputs[i][attn[i]==1], label[i][attn[i]==1])\n",
    "\n",
    "    loss.backward()\n",
    "    \n",
    "    # Adjust learning weights\n",
    "    optimizer.step()\n",
    "\n",
    "    # Gather data and report\n",
    "    running_loss += loss.item()\n",
    "\n",
    "    print(running_loss)"
   ]
  },
  {
   "cell_type": "code",
   "execution_count": null,
   "id": "af7fb69e-7566-4aa0-b242-cb39e58a9248",
   "metadata": {},
   "outputs": [],
   "source": []
  },
  {
   "cell_type": "code",
   "execution_count": null,
   "id": "c73d04a2-6517-4513-85e2-442e775cb106",
   "metadata": {},
   "outputs": [],
   "source": []
  },
  {
   "cell_type": "code",
   "execution_count": null,
   "id": "460e4660-14a0-401a-aedf-8113843f195a",
   "metadata": {},
   "outputs": [],
   "source": []
  },
  {
   "cell_type": "code",
   "execution_count": null,
   "id": "b3669e52-fc13-42f5-a014-f015aea77166",
   "metadata": {},
   "outputs": [],
   "source": []
  },
  {
   "cell_type": "code",
   "execution_count": null,
   "id": "0cb98324-e4f3-4754-bcad-3c9cfcd799e1",
   "metadata": {},
   "outputs": [],
   "source": []
  }
 ],
 "metadata": {
  "kernelspec": {
   "display_name": "Python 3 (ipykernel)",
   "language": "python",
   "name": "python3"
  },
  "language_info": {
   "codemirror_mode": {
    "name": "ipython",
    "version": 3
   },
   "file_extension": ".py",
   "mimetype": "text/x-python",
   "name": "python",
   "nbconvert_exporter": "python",
   "pygments_lexer": "ipython3",
   "version": "3.10.10"
  }
 },
 "nbformat": 4,
 "nbformat_minor": 5
}
